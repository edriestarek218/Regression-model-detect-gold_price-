{
  "cells": [
    {
      "cell_type": "markdown",
      "metadata": {
        "id": "YlrdLVF6oeZX"
      },
      "source": [
        "#Preprocessing\n",
        "\n"
      ]
    },
    {
      "cell_type": "markdown",
      "metadata": {
        "id": "i1h7LAlVa7Gu"
      },
      "source": [
        "Importing the Libraries"
      ]
    },
    {
      "cell_type": "code",
      "execution_count": null,
      "metadata": {
        "id": "d2o7jdWHXE6K"
      },
      "outputs": [
        {
          "ename": "",
          "evalue": "",
          "output_type": "error",
          "traceback": [
            "\u001b[1;31mFailed to start the Kernel. \n",
            "\u001b[1;31mBad address (C:\\projects\\libzmq\\src\\epoll.cpp:100). \n",
            "\u001b[1;31mView Jupyter <a href='command:jupyter.viewOutput'>log</a> for further details."
          ]
        }
      ],
      "source": [
        "import numpy as np\n",
        "import pandas as pd\n",
        "import matplotlib.pyplot as plt\n",
        "import seaborn as sns\n",
        "from sklearn.model_selection import train_test_split\n",
        "from sklearn.ensemble import RandomForestRegressor\n",
        "from xgboost import XGBRegressor\n",
        "from sklearn.tree import DecisionTreeRegressor\n",
        "from sklearn import metrics\n",
        "from sklearn.neighbors import KNeighborsRegressor\n"
      ]
    },
    {
      "cell_type": "markdown",
      "metadata": {
        "id": "Y1jC584Mbd4Q"
      },
      "source": [
        "Data Collection and Processing"
      ]
    },
    {
      "cell_type": "code",
      "execution_count": 76,
      "metadata": {
        "id": "BQtjCTzHbZQO"
      },
      "outputs": [],
      "source": [
        "# loading the csv data to a Pandas DataFrame\n",
        "gold_data = pd.read_csv('/content/gld_price_data.csv')"
      ]
    },
    {
      "cell_type": "code",
      "execution_count": 77,
      "metadata": {
        "colab": {
          "base_uri": "https://localhost:8080/",
          "height": 0
        },
        "id": "S5xeeB9LbyA9",
        "outputId": "95eda0a7-cdf7-4ce7-f9cf-cf6342dd651b"
      },
      "outputs": [
        {
          "data": {
            "text/html": [
              "\n",
              "  <div id=\"df-ac116102-a86f-412a-a38d-049555b2e866\">\n",
              "    <div class=\"colab-df-container\">\n",
              "      <div>\n",
              "<style scoped>\n",
              "    .dataframe tbody tr th:only-of-type {\n",
              "        vertical-align: middle;\n",
              "    }\n",
              "\n",
              "    .dataframe tbody tr th {\n",
              "        vertical-align: top;\n",
              "    }\n",
              "\n",
              "    .dataframe thead th {\n",
              "        text-align: right;\n",
              "    }\n",
              "</style>\n",
              "<table border=\"1\" class=\"dataframe\">\n",
              "  <thead>\n",
              "    <tr style=\"text-align: right;\">\n",
              "      <th></th>\n",
              "      <th>Date</th>\n",
              "      <th>SPX</th>\n",
              "      <th>GLD</th>\n",
              "      <th>USO</th>\n",
              "      <th>SLV</th>\n",
              "      <th>EUR/USD</th>\n",
              "    </tr>\n",
              "  </thead>\n",
              "  <tbody>\n",
              "    <tr>\n",
              "      <th>0</th>\n",
              "      <td>1/2/2008</td>\n",
              "      <td>1447.160034</td>\n",
              "      <td>84.860001</td>\n",
              "      <td>78.470001</td>\n",
              "      <td>15.180</td>\n",
              "      <td>1.471692</td>\n",
              "    </tr>\n",
              "    <tr>\n",
              "      <th>1</th>\n",
              "      <td>1/3/2008</td>\n",
              "      <td>1447.160034</td>\n",
              "      <td>85.570000</td>\n",
              "      <td>78.370003</td>\n",
              "      <td>15.285</td>\n",
              "      <td>1.474491</td>\n",
              "    </tr>\n",
              "    <tr>\n",
              "      <th>2</th>\n",
              "      <td>1/4/2008</td>\n",
              "      <td>1411.630005</td>\n",
              "      <td>85.129997</td>\n",
              "      <td>77.309998</td>\n",
              "      <td>15.167</td>\n",
              "      <td>1.475492</td>\n",
              "    </tr>\n",
              "    <tr>\n",
              "      <th>3</th>\n",
              "      <td>1/7/2008</td>\n",
              "      <td>1416.180054</td>\n",
              "      <td>84.769997</td>\n",
              "      <td>75.500000</td>\n",
              "      <td>15.053</td>\n",
              "      <td>1.468299</td>\n",
              "    </tr>\n",
              "    <tr>\n",
              "      <th>4</th>\n",
              "      <td>1/8/2008</td>\n",
              "      <td>1390.189941</td>\n",
              "      <td>86.779999</td>\n",
              "      <td>76.059998</td>\n",
              "      <td>15.590</td>\n",
              "      <td>1.557099</td>\n",
              "    </tr>\n",
              "  </tbody>\n",
              "</table>\n",
              "</div>\n",
              "      <button class=\"colab-df-convert\" onclick=\"convertToInteractive('df-ac116102-a86f-412a-a38d-049555b2e866')\"\n",
              "              title=\"Convert this dataframe to an interactive table.\"\n",
              "              style=\"display:none;\">\n",
              "        \n",
              "  <svg xmlns=\"http://www.w3.org/2000/svg\" height=\"24px\"viewBox=\"0 0 24 24\"\n",
              "       width=\"24px\">\n",
              "    <path d=\"M0 0h24v24H0V0z\" fill=\"none\"/>\n",
              "    <path d=\"M18.56 5.44l.94 2.06.94-2.06 2.06-.94-2.06-.94-.94-2.06-.94 2.06-2.06.94zm-11 1L8.5 8.5l.94-2.06 2.06-.94-2.06-.94L8.5 2.5l-.94 2.06-2.06.94zm10 10l.94 2.06.94-2.06 2.06-.94-2.06-.94-.94-2.06-.94 2.06-2.06.94z\"/><path d=\"M17.41 7.96l-1.37-1.37c-.4-.4-.92-.59-1.43-.59-.52 0-1.04.2-1.43.59L10.3 9.45l-7.72 7.72c-.78.78-.78 2.05 0 2.83L4 21.41c.39.39.9.59 1.41.59.51 0 1.02-.2 1.41-.59l7.78-7.78 2.81-2.81c.8-.78.8-2.07 0-2.86zM5.41 20L4 18.59l7.72-7.72 1.47 1.35L5.41 20z\"/>\n",
              "  </svg>\n",
              "      </button>\n",
              "      \n",
              "  <style>\n",
              "    .colab-df-container {\n",
              "      display:flex;\n",
              "      flex-wrap:wrap;\n",
              "      gap: 12px;\n",
              "    }\n",
              "\n",
              "    .colab-df-convert {\n",
              "      background-color: #E8F0FE;\n",
              "      border: none;\n",
              "      border-radius: 50%;\n",
              "      cursor: pointer;\n",
              "      display: none;\n",
              "      fill: #1967D2;\n",
              "      height: 32px;\n",
              "      padding: 0 0 0 0;\n",
              "      width: 32px;\n",
              "    }\n",
              "\n",
              "    .colab-df-convert:hover {\n",
              "      background-color: #E2EBFA;\n",
              "      box-shadow: 0px 1px 2px rgba(60, 64, 67, 0.3), 0px 1px 3px 1px rgba(60, 64, 67, 0.15);\n",
              "      fill: #174EA6;\n",
              "    }\n",
              "\n",
              "    [theme=dark] .colab-df-convert {\n",
              "      background-color: #3B4455;\n",
              "      fill: #D2E3FC;\n",
              "    }\n",
              "\n",
              "    [theme=dark] .colab-df-convert:hover {\n",
              "      background-color: #434B5C;\n",
              "      box-shadow: 0px 1px 3px 1px rgba(0, 0, 0, 0.15);\n",
              "      filter: drop-shadow(0px 1px 2px rgba(0, 0, 0, 0.3));\n",
              "      fill: #FFFFFF;\n",
              "    }\n",
              "  </style>\n",
              "\n",
              "      <script>\n",
              "        const buttonEl =\n",
              "          document.querySelector('#df-ac116102-a86f-412a-a38d-049555b2e866 button.colab-df-convert');\n",
              "        buttonEl.style.display =\n",
              "          google.colab.kernel.accessAllowed ? 'block' : 'none';\n",
              "\n",
              "        async function convertToInteractive(key) {\n",
              "          const element = document.querySelector('#df-ac116102-a86f-412a-a38d-049555b2e866');\n",
              "          const dataTable =\n",
              "            await google.colab.kernel.invokeFunction('convertToInteractive',\n",
              "                                                     [key], {});\n",
              "          if (!dataTable) return;\n",
              "\n",
              "          const docLinkHtml = 'Like what you see? Visit the ' +\n",
              "            '<a target=\"_blank\" href=https://colab.research.google.com/notebooks/data_table.ipynb>data table notebook</a>'\n",
              "            + ' to learn more about interactive tables.';\n",
              "          element.innerHTML = '';\n",
              "          dataTable['output_type'] = 'display_data';\n",
              "          await google.colab.output.renderOutput(dataTable, element);\n",
              "          const docLink = document.createElement('div');\n",
              "          docLink.innerHTML = docLinkHtml;\n",
              "          element.appendChild(docLink);\n",
              "        }\n",
              "      </script>\n",
              "    </div>\n",
              "  </div>\n",
              "  "
            ],
            "text/plain": [
              "       Date          SPX        GLD        USO     SLV   EUR/USD\n",
              "0  1/2/2008  1447.160034  84.860001  78.470001  15.180  1.471692\n",
              "1  1/3/2008  1447.160034  85.570000  78.370003  15.285  1.474491\n",
              "2  1/4/2008  1411.630005  85.129997  77.309998  15.167  1.475492\n",
              "3  1/7/2008  1416.180054  84.769997  75.500000  15.053  1.468299\n",
              "4  1/8/2008  1390.189941  86.779999  76.059998  15.590  1.557099"
            ]
          },
          "execution_count": 77,
          "metadata": {},
          "output_type": "execute_result"
        }
      ],
      "source": [
        "# print first 5 rows in the dataframe\n",
        "gold_data.head()"
      ]
    },
    {
      "cell_type": "code",
      "execution_count": 78,
      "metadata": {
        "colab": {
          "base_uri": "https://localhost:8080/",
          "height": 0
        },
        "id": "NrywfHOBb6HD",
        "outputId": "caf5c077-7257-4d8a-dfcc-b46e36f91325"
      },
      "outputs": [
        {
          "data": {
            "text/html": [
              "\n",
              "  <div id=\"df-37f5f0c0-2c5f-4ffa-a2fd-eb2bf915cf9a\">\n",
              "    <div class=\"colab-df-container\">\n",
              "      <div>\n",
              "<style scoped>\n",
              "    .dataframe tbody tr th:only-of-type {\n",
              "        vertical-align: middle;\n",
              "    }\n",
              "\n",
              "    .dataframe tbody tr th {\n",
              "        vertical-align: top;\n",
              "    }\n",
              "\n",
              "    .dataframe thead th {\n",
              "        text-align: right;\n",
              "    }\n",
              "</style>\n",
              "<table border=\"1\" class=\"dataframe\">\n",
              "  <thead>\n",
              "    <tr style=\"text-align: right;\">\n",
              "      <th></th>\n",
              "      <th>Date</th>\n",
              "      <th>SPX</th>\n",
              "      <th>GLD</th>\n",
              "      <th>USO</th>\n",
              "      <th>SLV</th>\n",
              "      <th>EUR/USD</th>\n",
              "    </tr>\n",
              "  </thead>\n",
              "  <tbody>\n",
              "    <tr>\n",
              "      <th>2285</th>\n",
              "      <td>5/8/2018</td>\n",
              "      <td>2671.919922</td>\n",
              "      <td>124.589996</td>\n",
              "      <td>14.0600</td>\n",
              "      <td>15.5100</td>\n",
              "      <td>1.186789</td>\n",
              "    </tr>\n",
              "    <tr>\n",
              "      <th>2286</th>\n",
              "      <td>5/9/2018</td>\n",
              "      <td>2697.790039</td>\n",
              "      <td>124.330002</td>\n",
              "      <td>14.3700</td>\n",
              "      <td>15.5300</td>\n",
              "      <td>1.184722</td>\n",
              "    </tr>\n",
              "    <tr>\n",
              "      <th>2287</th>\n",
              "      <td>5/10/2018</td>\n",
              "      <td>2723.070068</td>\n",
              "      <td>125.180000</td>\n",
              "      <td>14.4100</td>\n",
              "      <td>15.7400</td>\n",
              "      <td>1.191753</td>\n",
              "    </tr>\n",
              "    <tr>\n",
              "      <th>2288</th>\n",
              "      <td>5/14/2018</td>\n",
              "      <td>2730.129883</td>\n",
              "      <td>124.489998</td>\n",
              "      <td>14.3800</td>\n",
              "      <td>15.5600</td>\n",
              "      <td>1.193118</td>\n",
              "    </tr>\n",
              "    <tr>\n",
              "      <th>2289</th>\n",
              "      <td>5/16/2018</td>\n",
              "      <td>2725.780029</td>\n",
              "      <td>122.543800</td>\n",
              "      <td>14.4058</td>\n",
              "      <td>15.4542</td>\n",
              "      <td>1.182033</td>\n",
              "    </tr>\n",
              "  </tbody>\n",
              "</table>\n",
              "</div>\n",
              "      <button class=\"colab-df-convert\" onclick=\"convertToInteractive('df-37f5f0c0-2c5f-4ffa-a2fd-eb2bf915cf9a')\"\n",
              "              title=\"Convert this dataframe to an interactive table.\"\n",
              "              style=\"display:none;\">\n",
              "        \n",
              "  <svg xmlns=\"http://www.w3.org/2000/svg\" height=\"24px\"viewBox=\"0 0 24 24\"\n",
              "       width=\"24px\">\n",
              "    <path d=\"M0 0h24v24H0V0z\" fill=\"none\"/>\n",
              "    <path d=\"M18.56 5.44l.94 2.06.94-2.06 2.06-.94-2.06-.94-.94-2.06-.94 2.06-2.06.94zm-11 1L8.5 8.5l.94-2.06 2.06-.94-2.06-.94L8.5 2.5l-.94 2.06-2.06.94zm10 10l.94 2.06.94-2.06 2.06-.94-2.06-.94-.94-2.06-.94 2.06-2.06.94z\"/><path d=\"M17.41 7.96l-1.37-1.37c-.4-.4-.92-.59-1.43-.59-.52 0-1.04.2-1.43.59L10.3 9.45l-7.72 7.72c-.78.78-.78 2.05 0 2.83L4 21.41c.39.39.9.59 1.41.59.51 0 1.02-.2 1.41-.59l7.78-7.78 2.81-2.81c.8-.78.8-2.07 0-2.86zM5.41 20L4 18.59l7.72-7.72 1.47 1.35L5.41 20z\"/>\n",
              "  </svg>\n",
              "      </button>\n",
              "      \n",
              "  <style>\n",
              "    .colab-df-container {\n",
              "      display:flex;\n",
              "      flex-wrap:wrap;\n",
              "      gap: 12px;\n",
              "    }\n",
              "\n",
              "    .colab-df-convert {\n",
              "      background-color: #E8F0FE;\n",
              "      border: none;\n",
              "      border-radius: 50%;\n",
              "      cursor: pointer;\n",
              "      display: none;\n",
              "      fill: #1967D2;\n",
              "      height: 32px;\n",
              "      padding: 0 0 0 0;\n",
              "      width: 32px;\n",
              "    }\n",
              "\n",
              "    .colab-df-convert:hover {\n",
              "      background-color: #E2EBFA;\n",
              "      box-shadow: 0px 1px 2px rgba(60, 64, 67, 0.3), 0px 1px 3px 1px rgba(60, 64, 67, 0.15);\n",
              "      fill: #174EA6;\n",
              "    }\n",
              "\n",
              "    [theme=dark] .colab-df-convert {\n",
              "      background-color: #3B4455;\n",
              "      fill: #D2E3FC;\n",
              "    }\n",
              "\n",
              "    [theme=dark] .colab-df-convert:hover {\n",
              "      background-color: #434B5C;\n",
              "      box-shadow: 0px 1px 3px 1px rgba(0, 0, 0, 0.15);\n",
              "      filter: drop-shadow(0px 1px 2px rgba(0, 0, 0, 0.3));\n",
              "      fill: #FFFFFF;\n",
              "    }\n",
              "  </style>\n",
              "\n",
              "      <script>\n",
              "        const buttonEl =\n",
              "          document.querySelector('#df-37f5f0c0-2c5f-4ffa-a2fd-eb2bf915cf9a button.colab-df-convert');\n",
              "        buttonEl.style.display =\n",
              "          google.colab.kernel.accessAllowed ? 'block' : 'none';\n",
              "\n",
              "        async function convertToInteractive(key) {\n",
              "          const element = document.querySelector('#df-37f5f0c0-2c5f-4ffa-a2fd-eb2bf915cf9a');\n",
              "          const dataTable =\n",
              "            await google.colab.kernel.invokeFunction('convertToInteractive',\n",
              "                                                     [key], {});\n",
              "          if (!dataTable) return;\n",
              "\n",
              "          const docLinkHtml = 'Like what you see? Visit the ' +\n",
              "            '<a target=\"_blank\" href=https://colab.research.google.com/notebooks/data_table.ipynb>data table notebook</a>'\n",
              "            + ' to learn more about interactive tables.';\n",
              "          element.innerHTML = '';\n",
              "          dataTable['output_type'] = 'display_data';\n",
              "          await google.colab.output.renderOutput(dataTable, element);\n",
              "          const docLink = document.createElement('div');\n",
              "          docLink.innerHTML = docLinkHtml;\n",
              "          element.appendChild(docLink);\n",
              "        }\n",
              "      </script>\n",
              "    </div>\n",
              "  </div>\n",
              "  "
            ],
            "text/plain": [
              "           Date          SPX         GLD      USO      SLV   EUR/USD\n",
              "2285   5/8/2018  2671.919922  124.589996  14.0600  15.5100  1.186789\n",
              "2286   5/9/2018  2697.790039  124.330002  14.3700  15.5300  1.184722\n",
              "2287  5/10/2018  2723.070068  125.180000  14.4100  15.7400  1.191753\n",
              "2288  5/14/2018  2730.129883  124.489998  14.3800  15.5600  1.193118\n",
              "2289  5/16/2018  2725.780029  122.543800  14.4058  15.4542  1.182033"
            ]
          },
          "execution_count": 78,
          "metadata": {},
          "output_type": "execute_result"
        }
      ],
      "source": [
        "# print last 5 rows of the dataframe\n",
        "gold_data.tail()"
      ]
    },
    {
      "cell_type": "code",
      "execution_count": 79,
      "metadata": {
        "colab": {
          "base_uri": "https://localhost:8080/"
        },
        "id": "vgnDjvpocdUp",
        "outputId": "3ada8551-8c7b-4539-ed7a-4f1c4ded7e08"
      },
      "outputs": [
        {
          "data": {
            "text/plain": [
              "(2290, 6)"
            ]
          },
          "execution_count": 79,
          "metadata": {},
          "output_type": "execute_result"
        }
      ],
      "source": [
        "# number of rows and columns\n",
        "gold_data.shape"
      ]
    },
    {
      "cell_type": "code",
      "execution_count": 80,
      "metadata": {
        "colab": {
          "base_uri": "https://localhost:8080/"
        },
        "id": "9SEXC4AWcnDu",
        "outputId": "42ed3965-1b93-495f-e57b-cfd74b66ad91"
      },
      "outputs": [
        {
          "name": "stdout",
          "output_type": "stream",
          "text": [
            "<class 'pandas.core.frame.DataFrame'>\n",
            "RangeIndex: 2290 entries, 0 to 2289\n",
            "Data columns (total 6 columns):\n",
            " #   Column   Non-Null Count  Dtype  \n",
            "---  ------   --------------  -----  \n",
            " 0   Date     2290 non-null   object \n",
            " 1   SPX      2290 non-null   float64\n",
            " 2   GLD      2290 non-null   float64\n",
            " 3   USO      2290 non-null   float64\n",
            " 4   SLV      2290 non-null   float64\n",
            " 5   EUR/USD  2290 non-null   float64\n",
            "dtypes: float64(5), object(1)\n",
            "memory usage: 107.5+ KB\n"
          ]
        }
      ],
      "source": [
        "# getting some basic informations about the data\n",
        "gold_data.info()"
      ]
    },
    {
      "cell_type": "code",
      "execution_count": 81,
      "metadata": {
        "colab": {
          "base_uri": "https://localhost:8080/"
        },
        "id": "tjmFVXi2cv4Q",
        "outputId": "bf0e0482-25cb-439e-964b-3e2b0ad06a10"
      },
      "outputs": [
        {
          "data": {
            "text/plain": [
              "Date       0\n",
              "SPX        0\n",
              "GLD        0\n",
              "USO        0\n",
              "SLV        0\n",
              "EUR/USD    0\n",
              "dtype: int64"
            ]
          },
          "execution_count": 81,
          "metadata": {},
          "output_type": "execute_result"
        }
      ],
      "source": [
        "# checking the number of missing values\n",
        "gold_data.isnull().sum()"
      ]
    },
    {
      "cell_type": "code",
      "execution_count": 82,
      "metadata": {
        "colab": {
          "base_uri": "https://localhost:8080/",
          "height": 0
        },
        "id": "9IcOnRfhc7zv",
        "outputId": "a7a428da-8ac1-4848-a584-ca839c3a421e"
      },
      "outputs": [
        {
          "data": {
            "text/html": [
              "\n",
              "  <div id=\"df-452a3bce-6cb6-4aa4-b700-648d8b84a732\">\n",
              "    <div class=\"colab-df-container\">\n",
              "      <div>\n",
              "<style scoped>\n",
              "    .dataframe tbody tr th:only-of-type {\n",
              "        vertical-align: middle;\n",
              "    }\n",
              "\n",
              "    .dataframe tbody tr th {\n",
              "        vertical-align: top;\n",
              "    }\n",
              "\n",
              "    .dataframe thead th {\n",
              "        text-align: right;\n",
              "    }\n",
              "</style>\n",
              "<table border=\"1\" class=\"dataframe\">\n",
              "  <thead>\n",
              "    <tr style=\"text-align: right;\">\n",
              "      <th></th>\n",
              "      <th>SPX</th>\n",
              "      <th>GLD</th>\n",
              "      <th>USO</th>\n",
              "      <th>SLV</th>\n",
              "      <th>EUR/USD</th>\n",
              "    </tr>\n",
              "  </thead>\n",
              "  <tbody>\n",
              "    <tr>\n",
              "      <th>count</th>\n",
              "      <td>2290.000000</td>\n",
              "      <td>2290.000000</td>\n",
              "      <td>2290.000000</td>\n",
              "      <td>2290.000000</td>\n",
              "      <td>2290.000000</td>\n",
              "    </tr>\n",
              "    <tr>\n",
              "      <th>mean</th>\n",
              "      <td>1654.315776</td>\n",
              "      <td>122.732875</td>\n",
              "      <td>31.842221</td>\n",
              "      <td>20.084997</td>\n",
              "      <td>1.283653</td>\n",
              "    </tr>\n",
              "    <tr>\n",
              "      <th>std</th>\n",
              "      <td>519.111540</td>\n",
              "      <td>23.283346</td>\n",
              "      <td>19.523517</td>\n",
              "      <td>7.092566</td>\n",
              "      <td>0.131547</td>\n",
              "    </tr>\n",
              "    <tr>\n",
              "      <th>min</th>\n",
              "      <td>676.530029</td>\n",
              "      <td>70.000000</td>\n",
              "      <td>7.960000</td>\n",
              "      <td>8.850000</td>\n",
              "      <td>1.039047</td>\n",
              "    </tr>\n",
              "    <tr>\n",
              "      <th>25%</th>\n",
              "      <td>1239.874969</td>\n",
              "      <td>109.725000</td>\n",
              "      <td>14.380000</td>\n",
              "      <td>15.570000</td>\n",
              "      <td>1.171313</td>\n",
              "    </tr>\n",
              "    <tr>\n",
              "      <th>50%</th>\n",
              "      <td>1551.434998</td>\n",
              "      <td>120.580002</td>\n",
              "      <td>33.869999</td>\n",
              "      <td>17.268500</td>\n",
              "      <td>1.303297</td>\n",
              "    </tr>\n",
              "    <tr>\n",
              "      <th>75%</th>\n",
              "      <td>2073.010070</td>\n",
              "      <td>132.840004</td>\n",
              "      <td>37.827501</td>\n",
              "      <td>22.882500</td>\n",
              "      <td>1.369971</td>\n",
              "    </tr>\n",
              "    <tr>\n",
              "      <th>max</th>\n",
              "      <td>2872.870117</td>\n",
              "      <td>184.589996</td>\n",
              "      <td>117.480003</td>\n",
              "      <td>47.259998</td>\n",
              "      <td>1.598798</td>\n",
              "    </tr>\n",
              "  </tbody>\n",
              "</table>\n",
              "</div>\n",
              "      <button class=\"colab-df-convert\" onclick=\"convertToInteractive('df-452a3bce-6cb6-4aa4-b700-648d8b84a732')\"\n",
              "              title=\"Convert this dataframe to an interactive table.\"\n",
              "              style=\"display:none;\">\n",
              "        \n",
              "  <svg xmlns=\"http://www.w3.org/2000/svg\" height=\"24px\"viewBox=\"0 0 24 24\"\n",
              "       width=\"24px\">\n",
              "    <path d=\"M0 0h24v24H0V0z\" fill=\"none\"/>\n",
              "    <path d=\"M18.56 5.44l.94 2.06.94-2.06 2.06-.94-2.06-.94-.94-2.06-.94 2.06-2.06.94zm-11 1L8.5 8.5l.94-2.06 2.06-.94-2.06-.94L8.5 2.5l-.94 2.06-2.06.94zm10 10l.94 2.06.94-2.06 2.06-.94-2.06-.94-.94-2.06-.94 2.06-2.06.94z\"/><path d=\"M17.41 7.96l-1.37-1.37c-.4-.4-.92-.59-1.43-.59-.52 0-1.04.2-1.43.59L10.3 9.45l-7.72 7.72c-.78.78-.78 2.05 0 2.83L4 21.41c.39.39.9.59 1.41.59.51 0 1.02-.2 1.41-.59l7.78-7.78 2.81-2.81c.8-.78.8-2.07 0-2.86zM5.41 20L4 18.59l7.72-7.72 1.47 1.35L5.41 20z\"/>\n",
              "  </svg>\n",
              "      </button>\n",
              "      \n",
              "  <style>\n",
              "    .colab-df-container {\n",
              "      display:flex;\n",
              "      flex-wrap:wrap;\n",
              "      gap: 12px;\n",
              "    }\n",
              "\n",
              "    .colab-df-convert {\n",
              "      background-color: #E8F0FE;\n",
              "      border: none;\n",
              "      border-radius: 50%;\n",
              "      cursor: pointer;\n",
              "      display: none;\n",
              "      fill: #1967D2;\n",
              "      height: 32px;\n",
              "      padding: 0 0 0 0;\n",
              "      width: 32px;\n",
              "    }\n",
              "\n",
              "    .colab-df-convert:hover {\n",
              "      background-color: #E2EBFA;\n",
              "      box-shadow: 0px 1px 2px rgba(60, 64, 67, 0.3), 0px 1px 3px 1px rgba(60, 64, 67, 0.15);\n",
              "      fill: #174EA6;\n",
              "    }\n",
              "\n",
              "    [theme=dark] .colab-df-convert {\n",
              "      background-color: #3B4455;\n",
              "      fill: #D2E3FC;\n",
              "    }\n",
              "\n",
              "    [theme=dark] .colab-df-convert:hover {\n",
              "      background-color: #434B5C;\n",
              "      box-shadow: 0px 1px 3px 1px rgba(0, 0, 0, 0.15);\n",
              "      filter: drop-shadow(0px 1px 2px rgba(0, 0, 0, 0.3));\n",
              "      fill: #FFFFFF;\n",
              "    }\n",
              "  </style>\n",
              "\n",
              "      <script>\n",
              "        const buttonEl =\n",
              "          document.querySelector('#df-452a3bce-6cb6-4aa4-b700-648d8b84a732 button.colab-df-convert');\n",
              "        buttonEl.style.display =\n",
              "          google.colab.kernel.accessAllowed ? 'block' : 'none';\n",
              "\n",
              "        async function convertToInteractive(key) {\n",
              "          const element = document.querySelector('#df-452a3bce-6cb6-4aa4-b700-648d8b84a732');\n",
              "          const dataTable =\n",
              "            await google.colab.kernel.invokeFunction('convertToInteractive',\n",
              "                                                     [key], {});\n",
              "          if (!dataTable) return;\n",
              "\n",
              "          const docLinkHtml = 'Like what you see? Visit the ' +\n",
              "            '<a target=\"_blank\" href=https://colab.research.google.com/notebooks/data_table.ipynb>data table notebook</a>'\n",
              "            + ' to learn more about interactive tables.';\n",
              "          element.innerHTML = '';\n",
              "          dataTable['output_type'] = 'display_data';\n",
              "          await google.colab.output.renderOutput(dataTable, element);\n",
              "          const docLink = document.createElement('div');\n",
              "          docLink.innerHTML = docLinkHtml;\n",
              "          element.appendChild(docLink);\n",
              "        }\n",
              "      </script>\n",
              "    </div>\n",
              "  </div>\n",
              "  "
            ],
            "text/plain": [
              "               SPX          GLD          USO          SLV      EUR/USD\n",
              "count  2290.000000  2290.000000  2290.000000  2290.000000  2290.000000\n",
              "mean   1654.315776   122.732875    31.842221    20.084997     1.283653\n",
              "std     519.111540    23.283346    19.523517     7.092566     0.131547\n",
              "min     676.530029    70.000000     7.960000     8.850000     1.039047\n",
              "25%    1239.874969   109.725000    14.380000    15.570000     1.171313\n",
              "50%    1551.434998   120.580002    33.869999    17.268500     1.303297\n",
              "75%    2073.010070   132.840004    37.827501    22.882500     1.369971\n",
              "max    2872.870117   184.589996   117.480003    47.259998     1.598798"
            ]
          },
          "execution_count": 82,
          "metadata": {},
          "output_type": "execute_result"
        }
      ],
      "source": [
        "# getting the statistical measures of the data\n",
        "gold_data.describe()"
      ]
    },
    {
      "cell_type": "markdown",
      "metadata": {
        "id": "f9SUQ8hodW4b"
      },
      "source": [
        "Correlation: معامل الارتباط\n",
        "1. Positive Correlation\n",
        "2. Negative Correlation"
      ]
    },
    {
      "cell_type": "code",
      "execution_count": 83,
      "metadata": {
        "id": "C3xgji81dJUW"
      },
      "outputs": [],
      "source": [
        "correlation = gold_data.corr()"
      ]
    },
    {
      "cell_type": "code",
      "execution_count": 84,
      "metadata": {
        "colab": {
          "base_uri": "https://localhost:8080/",
          "height": 0
        },
        "id": "oOqb9j0Ad-Zx",
        "outputId": "3e9dbcac-0518-4c1b-ac33-04661ff45afc"
      },
      "outputs": [
        {
          "data": {
            "image/png": "[encoded data removed]",
            "text/plain": [
              "<Figure size 576x576 with 2 Axes>"
            ]
          },
          "metadata": {
            "needs_background": "light"
          },
          "output_type": "display_data"
        }
      ],
      "source": [
        "# constructing a heatmap to understand the correlatiom\n",
        "plt.figure(figsize = (8,8))\n",
        "sns.heatmap(correlation, cbar=True, square=True, fmt='.1f',annot=True, annot_kws={'size':8}, cmap='Reds')\n",
        "plt.show()"
      ]
    },
    {
      "cell_type": "code",
      "execution_count": 85,
      "metadata": {
        "colab": {
          "base_uri": "https://localhost:8080/"
        },
        "id": "qtQ_icjRemI4",
        "outputId": "78343ac0-bc32-4093-fa18-b6fbe81775da"
      },
      "outputs": [
        {
          "name": "stdout",
          "output_type": "stream",
          "text": [
            "SPX        0.049345\n",
            "GLD        1.000000\n",
            "USO       -0.186360\n",
            "SLV        0.866632\n",
            "EUR/USD   -0.024375\n",
            "Name: GLD, dtype: float64\n"
          ]
        }
      ],
      "source": [
        "# correlation values of GLD\n",
        "print(correlation['GLD'])"
      ]
    },
    {
      "cell_type": "code",
      "execution_count": 86,
      "metadata": {
        "colab": {
          "base_uri": "https://localhost:8080/",
          "height": 0
        },
        "id": "TMr-xVEwfIKg",
        "outputId": "5cbba526-6a96-4bf5-85d3-eb1f6fce0811"
      },
      "outputs": [
        {
          "name": "stderr",
          "output_type": "stream",
          "text": [
            "/usr/local/lib/python3.8/dist-packages/seaborn/distributions.py:2619: FutureWarning: `distplot` is a deprecated function and will be removed in a future version. Please adapt your code to use either `displot` (a figure-level function with similar flexibility) or `histplot` (an axes-level function for histograms).\n",
            "  warnings.warn(msg, FutureWarning)\n"
          ]
        },
        {
          "data": {
            "text/plain": [
              "<matplotlib.axes._subplots.AxesSubplot at 0x7f6c67f86f70>"
            ]
          },
          "execution_count": 86,
          "metadata": {},
          "output_type": "execute_result"
        },
        {
          "data": {
            "image/png": "[encoded data removed]",
            "text/plain": [
              "<Figure size 432x288 with 1 Axes>"
            ]
          },
          "metadata": {
            "needs_background": "light"
          },
          "output_type": "display_data"
        }
      ],
      "source": [
        "# checking the distribution of the GLD Price\n",
        "sns.distplot(gold_data['GLD'],color='green')"
      ]
    },
    {
      "cell_type": "markdown",
      "metadata": {
        "id": "4bdwLbPEfqWI"
      },
      "source": [
        "Splitting the Features and Target"
      ]
    },
    {
      "cell_type": "code",
      "execution_count": 87,
      "metadata": {
        "id": "SJNxCR0vfWxe"
      },
      "outputs": [],
      "source": [
        "X = gold_data.drop(['Date','GLD'],axis=1)\n",
        "Y = gold_data['GLD']"
      ]
    },
    {
      "cell_type": "code",
      "execution_count": 88,
      "metadata": {
        "colab": {
          "base_uri": "https://localhost:8080/"
        },
        "id": "qW9UvLSNf8zH",
        "outputId": "5877d502-3d48-427a-dbe5-d8382d341b43"
      },
      "outputs": [
        {
          "name": "stdout",
          "output_type": "stream",
          "text": [
            "              SPX        USO      SLV   EUR/USD\n",
            "0     1447.160034  78.470001  15.1800  1.471692\n",
            "1     1447.160034  78.370003  15.2850  1.474491\n",
            "2     1411.630005  77.309998  15.1670  1.475492\n",
            "3     1416.180054  75.500000  15.0530  1.468299\n",
            "4     1390.189941  76.059998  15.5900  1.557099\n",
            "...           ...        ...      ...       ...\n",
            "2285  2671.919922  14.060000  15.5100  1.186789\n",
            "2286  2697.790039  14.370000  15.5300  1.184722\n",
            "2287  2723.070068  14.410000  15.7400  1.191753\n",
            "2288  2730.129883  14.380000  15.5600  1.193118\n",
            "2289  2725.780029  14.405800  15.4542  1.182033\n",
            "\n",
            "[2290 rows x 4 columns]\n"
          ]
        }
      ],
      "source": [
        "print(X)"
      ]
    },
    {
      "cell_type": "code",
      "execution_count": 89,
      "metadata": {
        "colab": {
          "base_uri": "https://localhost:8080/"
        },
        "id": "lKUe3C-qf9y8",
        "outputId": "7d900644-fee7-4c5d-be72-5a7999aad80f"
      },
      "outputs": [
        {
          "name": "stdout",
          "output_type": "stream",
          "text": [
            "0        84.860001\n",
            "1        85.570000\n",
            "2        85.129997\n",
            "3        84.769997\n",
            "4        86.779999\n",
            "           ...    \n",
            "2285    124.589996\n",
            "2286    124.330002\n",
            "2287    125.180000\n",
            "2288    124.489998\n",
            "2289    122.543800\n",
            "Name: GLD, Length: 2290, dtype: float64\n"
          ]
        }
      ],
      "source": [
        "print(Y)"
      ]
    },
    {
      "cell_type": "markdown",
      "metadata": {
        "id": "nv8UohBVgE1Z"
      },
      "source": [
        "Splitting into Training data and Test Data"
      ]
    },
    {
      "cell_type": "code",
      "execution_count": 90,
      "metadata": {
        "id": "KkrUByFugBUn"
      },
      "outputs": [],
      "source": [
        "X_train, X_test, Y_train, Y_test = train_test_split(X, Y, test_size = 0.2, random_state=2)"
      ]
    },
    {
      "cell_type": "markdown",
      "metadata": {
        "id": "1vrCHktWgqfi"
      },
      "source": [
        "#Model Training:\n"
      ]
    },
    {
      "cell_type": "markdown",
      "metadata": {
        "id": "tPK2gdPEmo8i"
      },
      "source": [
        "#Random Forest Regressor"
      ]
    },
    {
      "cell_type": "code",
      "execution_count": 91,
      "metadata": {
        "id": "N17qRKKGgoaZ"
      },
      "outputs": [],
      "source": [
        "regressor = RandomForestRegressor(n_estimators=100)"
      ]
    },
    {
      "cell_type": "code",
      "execution_count": 92,
      "metadata": {
        "colab": {
          "base_uri": "https://localhost:8080/"
        },
        "id": "DP2he4-PhMso",
        "outputId": "c8f3dd02-1423-48f8-a3f7-8193c0a6b39b"
      },
      "outputs": [
        {
          "data": {
            "text/plain": [
              "RandomForestRegressor()"
            ]
          },
          "execution_count": 92,
          "metadata": {},
          "output_type": "execute_result"
        }
      ],
      "source": [
        "# training the model\n",
        "regressor.fit(X_train,Y_train)"
      ]
    },
    {
      "cell_type": "markdown",
      "metadata": {
        "id": "SHNFVsr4hbG2"
      },
      "source": [
        "Model Evaluation"
      ]
    },
    {
      "cell_type": "code",
      "execution_count": 93,
      "metadata": {
        "id": "uOLpKKD_hXSl"
      },
      "outputs": [],
      "source": [
        "# prediction on Test Data\n",
        "test_data_prediction = regressor.predict(X_test)"
      ]
    },
    {
      "cell_type": "code",
      "execution_count": 94,
      "metadata": {
        "colab": {
          "base_uri": "https://localhost:8080/"
        },
        "id": "WSIqrLNdhnOr",
        "outputId": "de8fdec2-b2e2-4d87-fd6e-0bd22a78538e"
      },
      "outputs": [
        {
          "name": "stdout",
          "output_type": "stream",
          "text": [
            "[168.25669908  82.19149964 116.09420024 127.68940054 120.82280141\n",
            " 154.87479766 150.51739847 126.04510045 117.55639868 126.32170021\n",
            " 116.81460091 171.69530136 141.35329866 167.58859786 115.01160011\n",
            " 117.88930072 138.12100357 169.83830043 158.58600259 156.25409979\n",
            " 155.04009956 125.18409963 176.95689935 157.03160387 125.22360056\n",
            "  93.76789972  77.69570021 120.48130009 119.20419939 167.41279928\n",
            "  88.26310033 125.34110036  91.19890076 117.66090021 121.08769894\n",
            " 136.52610006 115.61120133 115.02280071 148.08439971 107.49950085\n",
            " 104.71100262  87.18969802 126.59860033 117.97780017 152.56829896\n",
            " 119.55070036 108.2106004  108.02359836  93.14040033 127.2039975\n",
            "  75.58600041 113.60279908 121.23410043 111.23649912 118.89749894\n",
            " 120.77019908 158.68980019 167.93500152 146.87899671  86.05139879\n",
            "  94.30570052  86.71319838  90.66460003 119.07930078 126.42460046\n",
            " 127.57410003 169.43009933 122.24869951 117.43609871  98.57620036\n",
            " 168.09040062 143.26309822 131.64440222 121.24640212 120.92199931\n",
            " 119.6825004  114.61830146 118.34340074 107.24400097 127.80950098\n",
            " 113.9857998  107.13050015 116.72470026 119.60469921  88.79070081\n",
            "  88.2484988  146.58540237 127.2305998  113.44620034 110.22309834\n",
            " 108.25869898  77.67129882 168.90600141 113.96349906 121.52749948\n",
            " 127.4494018  154.95909838  91.83559975 135.85770152 158.66420253\n",
            " 125.38700062 125.55420039 130.83840165 114.9490011  119.78559968\n",
            "  92.03889969 110.2615988  166.12229891 157.8755992  114.06679926\n",
            " 106.80190109  79.0313999  113.06610034 125.84900113 107.16389945\n",
            " 119.49840106 155.68400301 159.87469877 120.37189977 134.44480299\n",
            " 101.49819984 117.47199781 119.2280003  112.91730065 102.76319935\n",
            " 160.33699762  98.84680022 148.04979928 125.66840101 169.04899919\n",
            " 125.88929882 127.38709709 127.4560018  113.45509962 112.88190065\n",
            " 123.64419913 102.11769906  89.45539977 124.61849969 101.83319931\n",
            " 106.93099869 113.57970052 117.41310053  99.1057996  121.94870037\n",
            " 163.29429895  87.30009903 106.69739979 117.18270073 127.68570162\n",
            " 123.81930068  80.76669919 120.3363008  158.33119865  87.98489988\n",
            " 110.11889924 118.90149905 172.88539925 103.01669915 105.52920061\n",
            " 122.7895001  158.47219849  87.1112984   93.4678007  112.82020027\n",
            " 177.99219944 114.55970005 119.27240034  94.54300092 125.66300044\n",
            " 166.15550119 114.90250068 116.93500123  88.38839881 148.83310104\n",
            " 120.26289941  89.50339963 112.49550022 117.29010045 118.67460122\n",
            "  88.01579905  93.99399996 117.25100006 118.5753017  120.5396005\n",
            " 127.00239782 121.91959971 151.16839963 163.84240067 118.59849973\n",
            " 120.42080144 151.04800091 118.3457995  172.79469915 105.71099917\n",
            " 104.94250136 150.04330109 113.80940052 124.72550079 147.88190033\n",
            " 119.55550106 115.31750052 112.34930022 113.52040175 140.8227012\n",
            " 117.88339764 102.9495005  115.82280092 104.13140179  98.7421004\n",
            " 117.51100047  90.45940025  91.28980046 153.40809895 102.67179987\n",
            " 154.37080101 114.19050132 138.66010101  90.01769812 115.40799989\n",
            " 114.68379935 123.1489004  121.95740011 165.3310011   92.95299937\n",
            " 134.91610089 121.36749932 120.6435008  104.73130018 143.38020292\n",
            " 122.11789893 116.63240051 113.73770128 127.08829763 122.33189974\n",
            " 125.69789905 121.26900029  86.8326991  132.56960149 144.89510208\n",
            "  92.76139948 159.93200038 159.23880244 126.36479911 164.46740003\n",
            " 109.0134994  109.59060099 103.69049835  94.38020098 127.41570274\n",
            " 107.06850016 162.56080025 121.80900046 131.82850087 130.86140138\n",
            " 160.6297006   90.03519841 176.35420174 128.13190016 127.01549821\n",
            "  86.45709942 124.40159876 150.04379754  89.63109997 106.87919969\n",
            " 109.06069996  84.42599879 136.05900031 154.87180253 138.19720356\n",
            "  73.74640023 151.98620162 126.1637001  126.74630005 127.57119928\n",
            " 108.67489959 156.2240998  114.5335011  116.84360143 125.21219956\n",
            " 154.10290229 121.15050003 156.48419894  92.94410081 125.54530183\n",
            " 125.51100005  87.84580016  92.04299905 126.45519942 128.38680383\n",
            " 113.2437007  117.70089747 120.87750009 126.91279856 119.74350095\n",
            " 136.68020037  93.89089936 120.12400031 113.31690125  94.2629995\n",
            " 108.68679944  87.51129915 108.93219978  89.71649981  92.47960024\n",
            " 131.93180298 162.44830027  89.22200054 119.62150122 133.09800186\n",
            " 123.9357002  128.29610184 102.0357985   88.72129892 131.43939998\n",
            " 119.87180012 108.33290024 168.53370106 115.23190067  86.59999875\n",
            " 119.01160064  91.07239942 161.83800044 116.40780031 121.4068001\n",
            " 160.20169783 120.0004994  112.68839957 108.55509873 126.73050017\n",
            "  75.95590031 103.01579982 127.01560224 121.78819948  92.63429984\n",
            " 131.85640025 118.1775012  116.04489985 154.36940314 159.11110046\n",
            " 110.14449921 152.01039745 119.28660124 160.70040182 118.6015006\n",
            " 157.97329932 115.1159997  116.62630041 149.70879975 115.06870068\n",
            " 125.79409859 166.64449845 117.75570026 125.30709933 153.21040333\n",
            " 153.35030255 132.02500077 114.80800041 121.180202   124.82800062\n",
            "  89.78680058 123.1105999  154.83950135 111.83490064 106.65819994\n",
            " 161.63280203 118.68150031 165.67799986 134.31360112 114.99449968\n",
            " 153.01289959 168.75890091 114.78890002 114.07680142 157.81659898\n",
            "  85.30259912 127.08990078 127.89300069 129.01379993 124.26590135\n",
            " 123.98850061  90.35470065 153.00860002  97.15519986 137.72699999\n",
            "  89.01099894 107.14829999 115.00690049 112.82660104 123.8470997\n",
            "  91.43509854 125.33330114 162.22349863 119.94349878 165.35510038\n",
            " 126.95209783 112.31020032 127.41329907  95.1624989   91.13549979\n",
            " 103.14959932 120.78790002  82.8518996  126.3952     159.82470479\n",
            " 117.26970077 118.23619954 119.97779994 122.96539947 120.12260137\n",
            " 121.53929994 118.38000044 107.05959961 148.14799998 126.49429833\n",
            " 115.72250082  73.89389975 127.80780076 154.32690023 122.04259984\n",
            " 125.61180043  88.84480013 103.54589869 124.97040062 120.21440004\n",
            "  73.37300091 151.46710038 121.05630062 104.66180001  86.44249762\n",
            " 115.19869917 172.18929827 119.96860021 159.85499805 113.16299975\n",
            " 120.79000018 118.71250085  95.87969988 118.67160012 125.80440033\n",
            " 118.48269954  95.79200049 153.96510153 122.17150016 147.56499993\n",
            " 159.54130223 113.84169984 122.53979924 148.36079782 127.28020034\n",
            " 165.72730076 136.63170045 119.87079968 167.812499   108.27919929\n",
            " 121.72439859 138.588001   107.35359895]\n"
          ]
        }
      ],
      "source": [
        "print(test_data_prediction)"
      ]
    },
    {
      "cell_type": "code",
      "execution_count": 95,
      "metadata": {
        "colab": {
          "base_uri": "https://localhost:8080/"
        },
        "id": "TLHSKUG8y0Pj",
        "outputId": "7f17e4eb-2a67-4cb6-bc73-8fa990ca634d"
      },
      "outputs": [
        {
          "data": {
            "text/plain": [
              "0.9984975755045429"
            ]
          },
          "execution_count": 95,
          "metadata": {},
          "output_type": "execute_result"
        }
      ],
      "source": [
        "regressor.score(X_train,Y_train)"
      ]
    },
    {
      "cell_type": "code",
      "execution_count": 96,
      "metadata": {
        "colab": {
          "base_uri": "https://localhost:8080/"
        },
        "id": "fu7A1hhMhqa9",
        "outputId": "27ad32ab-0965-406b-b1e0-e6636b502c93"
      },
      "outputs": [
        {
          "name": "stdout",
          "output_type": "stream",
          "text": [
            "R squared error :  0.9888204267221915\n"
          ]
        }
      ],
      "source": [
        "# R squared error\n",
        "error_score = metrics.r2_score(Y_test, test_data_prediction)\n",
        "print(\"R squared error : \", error_score)"
      ]
    },
    {
      "cell_type": "markdown",
      "metadata": {
        "id": "f1fiqOMkiZNL"
      },
      "source": [
        "Compare the Actual Values and Predicted Values in a Plot"
      ]
    },
    {
      "cell_type": "code",
      "execution_count": 97,
      "metadata": {
        "id": "QoC4g_tBiE4A"
      },
      "outputs": [],
      "source": [
        "Y_test = list(Y_test)"
      ]
    },
    {
      "cell_type": "code",
      "execution_count": 98,
      "metadata": {
        "colab": {
          "base_uri": "https://localhost:8080/",
          "height": 0
        },
        "id": "sMSVMVtFijxo",
        "outputId": "8348239f-93a5-4094-d77e-bcaa7bb08f72"
      },
      "outputs": [
        {
          "data": {
            "image/png": "[encoded data removed]",
            "text/plain": [
              "<Figure size 432x288 with 1 Axes>"
            ]
          },
          "metadata": {
            "needs_background": "light"
          },
          "output_type": "display_data"
        }
      ],
      "source": [
        "plt.plot(Y_test, color='blue', label = 'Actual Value')\n",
        "plt.plot(test_data_prediction, color='green', label='Predicted Value')\n",
        "plt.title('Actual Price vs Predicted Price')\n",
        "plt.xlabel('Number of values')\n",
        "plt.ylabel('GLD Price')\n",
        "plt.legend()\n",
        "plt.show()"
      ]
    },
    {
      "cell_type": "markdown",
      "metadata": {
        "id": "noTjaLXQ0uke"
      },
      "source": [
        "# XGBoost"
      ]
    },
    {
      "cell_type": "code",
      "execution_count": 99,
      "metadata": {
        "colab": {
          "base_uri": "https://localhost:8080/"
        },
        "id": "ZD12Iiq0zwXA",
        "outputId": "1669bdea-6c48-4e3c-cb04-6ca9d60b46d2"
      },
      "outputs": [
        {
          "name": "stdout",
          "output_type": "stream",
          "text": [
            "[21:07:32] WARNING: /workspace/src/objective/regression_obj.cu:152: reg:linear is now deprecated in favor of reg:squarederror.\n"
          ]
        },
        {
          "data": {
            "text/plain": [
              "XGBRegressor()"
            ]
          },
          "execution_count": 99,
          "metadata": {},
          "output_type": "execute_result"
        }
      ],
      "source": [
        "xg=XGBRegressor()\n",
        "xg.fit(X_train,Y_train)"
      ]
    },
    {
      "cell_type": "code",
      "execution_count": 100,
      "metadata": {
        "colab": {
          "base_uri": "https://localhost:8080/"
        },
        "id": "i1-cD1xAnvdR",
        "outputId": "0596f98d-a1a6-4f19-da32-d949ad6f9617"
      },
      "outputs": [
        {
          "name": "stdout",
          "output_type": "stream",
          "text": [
            "[167.29465   83.83803  116.5457   126.69601  120.03826  153.10721\n",
            " 150.1452   125.47777  119.0722   124.290085 115.90055  172.07721\n",
            " 141.9481   163.74553  115.48286  118.14133  146.99615  168.77565\n",
            " 159.2201   155.85431  153.8207   125.033195 177.53171  155.55746\n",
            " 125.01433   95.29178   77.57067  121.87128  118.94023  169.87993\n",
            "  88.443054 124.56581   91.47181  116.924385 120.069786 143.84334\n",
            " 115.72174  116.06736  146.49495  110.42031  102.35235   86.58587\n",
            " 125.888054 115.166855 150.94557  121.79887  108.49245  106.19332\n",
            "  92.73162  125.45892   73.43168  115.798805 120.24192  112.265884\n",
            " 120.6652   124.90242  157.90927  167.2536   145.88608   86.22181\n",
            "  94.832     86.4866    89.63401  118.05444  126.26831  127.313255\n",
            " 166.64119  121.75183  117.462975 102.29062  165.07495  143.25972\n",
            " 134.17064  120.83405  124.342606 121.834785 114.38724  117.80851\n",
            " 110.42031  127.81276  115.16934  104.176926 121.56972  119.07255\n",
            "  87.39138   90.26947  143.39531  126.02705  114.52117  108.26921\n",
            " 103.569275  76.9256   167.65858  115.522026 122.33777  128.02315\n",
            " 153.2055    91.328606 142.73126  154.9075   125.03119  125.863045\n",
            " 133.19092  114.38724  119.7997    91.57016  110.94784  158.80405\n",
            " 153.13943  115.522026 103.1079    77.43492  113.11465  125.42922\n",
            " 105.27314  118.95103  153.48293  155.42503  119.93911  142.47961\n",
            " 101.84107  117.98026  115.65205  111.989105 102.89535  158.13396\n",
            " 101.16193  150.343    125.61368  162.26044  124.71084  126.02705\n",
            " 125.56155  113.91263  113.60684  124.916855 104.302505  88.62025\n",
            " 125.06107  106.81408  104.180595 114.09392  117.975945 102.889244\n",
            " 122.90159  163.12874   86.58587  105.59376  116.150085 127.81276\n",
            " 124.19615   82.313225 120.55073  153.804     88.62025  110.50304\n",
            " 121.0324   170.29382  102.77042  105.50501  120.79412  152.8074\n",
            "  88.62025   95.275764 114.52117  179.35791  116.55742  115.65205\n",
            "  95.25803  123.288895 163.27184  114.38724  116.150085  90.095215\n",
            " 148.01772  120.35029   91.547195 112.1602   115.166855 119.05202\n",
            "  90.19826   95.93514  117.37949  117.498055 119.57604  126.22334\n",
            " 122.4212   152.80956  163.46896  120.38842  122.6151   146.52782\n",
            " 118.01909  170.41893  107.88893  104.370224 148.3517   113.94297\n",
            " 124.920265 150.30074  118.36736  115.522026 112.1602   116.06499\n",
            " 144.42221  117.85712  104.79381  115.798805 102.119705 103.04146\n",
            " 117.502235  92.88843   91.14698  153.8207   101.73409  151.09227\n",
            " 116.06499  144.11601   90.731606 115.86692  114.49629  122.34014\n",
            " 122.02986  165.24983   93.38588  136.00021  121.834526 120.74742\n",
            " 104.82369  146.6458   121.79887  116.65347  113.98347  125.22239\n",
            " 124.342606 125.42922  121.55475   86.44811  131.98665  147.79333\n",
            "  91.91603  154.78278  154.9075   126.144585 163.12874  109.06158\n",
            " 114.62526  104.94569   93.55571  127.89928  105.97836  156.65924\n",
            " 122.90159  132.68855  132.33551  162.63486   90.1744   176.44806\n",
            " 122.99833  125.22239   85.4007   127.640076 149.27406   91.547195\n",
            " 105.71575  106.937294  84.619934 138.71461  152.82234  145.15051\n",
            "  74.1871   150.51842  126.144585 126.324524 125.96789  108.66202\n",
            " 155.35889  114.38724  118.20999  124.81467  152.53758  120.6652\n",
            " 155.8498    91.572205 125.42922  125.033195  86.81005   91.96931\n",
            " 124.85821  125.697525 111.637825 117.47858  120.604996 126.22334\n",
            " 122.6151   142.84674   95.659454 120.537674 112.1907    95.81969\n",
            " 105.502945  84.883    111.162865  89.63401   93.16412  132.10016\n",
            " 165.06636   89.13046  119.06546  132.26419  122.534454 128.04672\n",
            " 104.302505  88.87095  134.58257  123.457726 108.49245  157.40337\n",
            " 115.798805  86.58587  119.25322   90.91522  161.1648   116.65347\n",
            " 121.050255 158.13396  117.47858  112.40886  105.05776  125.42922\n",
            "  77.863495 104.207695 127.81276  122.3237    92.58037  137.76671\n",
            " 117.07444  116.72311  152.82234  155.50427  109.69481  156.29889\n",
            " 120.07777  157.23395  118.70698  156.32271  115.86692  118.14133\n",
            " 149.97417  114.38724  124.09705  160.23097  118.14133  123.84769\n",
            " 152.82234  153.2055   131.98665  114.26524  120.57468  124.09756\n",
            "  89.63401  119.95438  153.62283  112.180786 106.00463  161.6739\n",
            " 118.89279  168.68279  131.41313  116.08407  151.79585  170.13245\n",
            " 116.924385 111.229805 158.71793   86.03717  125.52633  128.02315\n",
            " 128.81003  124.140205 120.93855   89.91286  153.62283   98.20862\n",
            " 143.59427   91.547195 104.176926 115.522026 113.250465 124.65108\n",
            "  91.31538  124.83436  165.14816  121.56972  166.47781  126.22334\n",
            " 112.180786 126.29236   99.07615   89.63401  106.81408  118.99093\n",
            "  81.20518  125.863045 159.2201   116.03159  114.19532  121.87128\n",
            " 126.41417  121.22535  122.3237   120.1042   103.342834 147.91942\n",
            " 124.71084  115.798805  73.646774 126.66348  150.04663  122.36817\n",
            " 125.42922   88.569275 105.63302  122.8789   119.80978   73.33431\n",
            " 149.8933   120.24192  104.50398   88.515465 116.5457   172.43729\n",
            " 119.93212  158.33926  111.9446   118.28104  117.07444   95.84825\n",
            " 117.2926   124.346924 120.6652    98.865234 152.74059  121.53885\n",
            " 146.92511  155.12578  111.69095  121.41266  149.76828  125.033195\n",
            " 168.26007  140.71637  120.190315 166.28087  106.19332  119.70289\n",
            " 144.15387  107.93301 ]\n"
          ]
        }
      ],
      "source": [
        "test_data_prediction_gx = xg.predict(X_test)\n",
        "print(test_data_prediction_gx)"
      ]
    },
    {
      "cell_type": "code",
      "execution_count": 101,
      "metadata": {
        "colab": {
          "base_uri": "https://localhost:8080/"
        },
        "id": "U3jWa2QM0WxI",
        "outputId": "24df3ef5-6e26-4704-98d4-8bf147c6a991"
      },
      "outputs": [
        {
          "data": {
            "text/plain": [
              "0.9861754954225445"
            ]
          },
          "execution_count": 101,
          "metadata": {},
          "output_type": "execute_result"
        }
      ],
      "source": [
        "xg.score(X_train,Y_train)"
      ]
    },
    {
      "cell_type": "code",
      "execution_count": 102,
      "metadata": {
        "colab": {
          "base_uri": "https://localhost:8080/"
        },
        "id": "EmQykVHvn_gc",
        "outputId": "3aa7bd03-17b9-4767-82ec-bad73e2f5357"
      },
      "outputs": [
        {
          "name": "stdout",
          "output_type": "stream",
          "text": [
            "R squared error :  0.9888204267221915\n"
          ]
        }
      ],
      "source": [
        "# R squared error\n",
        "error_score_gx = metrics.r2_score(Y_test, test_data_prediction_gx)\n",
        "print(\"R squared error : \", error_score)"
      ]
    },
    {
      "cell_type": "code",
      "execution_count": 103,
      "metadata": {
        "id": "C13fiREfoGa0"
      },
      "outputs": [],
      "source": [
        "Y_test = list(Y_test)"
      ]
    },
    {
      "cell_type": "code",
      "execution_count": 104,
      "metadata": {
        "colab": {
          "base_uri": "https://localhost:8080/"
        },
        "id": "FTNFVqvm0nmJ",
        "outputId": "250e6706-74c9-419d-aae8-9fb6adb5f0cc"
      },
      "outputs": [
        {
          "data": {
            "text/plain": [
              "0.9768545049270835"
            ]
          },
          "execution_count": 104,
          "metadata": {},
          "output_type": "execute_result"
        }
      ],
      "source": [
        "xg.score(X_test,Y_test)"
      ]
    },
    {
      "cell_type": "code",
      "execution_count": 105,
      "metadata": {
        "colab": {
          "base_uri": "https://localhost:8080/",
          "height": 0
        },
        "id": "8ITs5eFUoJ1J",
        "outputId": "892019de-6dad-4687-ca17-1db297c218b4"
      },
      "outputs": [
        {
          "data": {
            "image/png": "[encoded data removed]",
            "text/plain": [
              "<Figure size 432x288 with 1 Axes>"
            ]
          },
          "metadata": {
            "needs_background": "light"
          },
          "output_type": "display_data"
        }
      ],
      "source": [
        "plt.plot(Y_test, color='blue', label = 'Actual Value')\n",
        "plt.plot(test_data_prediction_gx, color='green', label='Predicted Value')\n",
        "plt.title('Actual Price vs Predicted Price')\n",
        "plt.xlabel('Number of values')\n",
        "plt.ylabel('GLD Price')\n",
        "plt.legend()\n",
        "plt.show()"
      ]
    },
    {
      "cell_type": "markdown",
      "metadata": {
        "id": "Aj6OZDnM67oC"
      },
      "source": [
        "# Decision Tree"
      ]
    },
    {
      "cell_type": "code",
      "execution_count": 106,
      "metadata": {
        "colab": {
          "base_uri": "https://localhost:8080/"
        },
        "id": "n_rvs0Bp6_3F",
        "outputId": "86f68192-407f-4e82-abb7-7cdb88ab803c"
      },
      "outputs": [
        {
          "data": {
            "text/plain": [
              "DecisionTreeRegressor()"
            ]
          },
          "execution_count": 106,
          "metadata": {},
          "output_type": "execute_result"
        }
      ],
      "source": [
        "dt=DecisionTreeRegressor()\n",
        "dt.fit(X_train,Y_train)"
      ]
    },
    {
      "cell_type": "code",
      "execution_count": 107,
      "metadata": {
        "colab": {
          "base_uri": "https://localhost:8080/"
        },
        "id": "5BnKdPgxzIFX",
        "outputId": "508eb70f-28b9-455e-d9cf-182a7fd9f720"
      },
      "outputs": [
        {
          "name": "stdout",
          "output_type": "stream",
          "text": [
            "[168.970001  81.360001 114.769997 127.779999 121.190002 155.139999\n",
            " 148.220001 126.559998 117.639999 125.620003 117.959999 174.580002\n",
            " 141.919998 167.179993 116.110001 116.75     134.100006 168.970001\n",
            " 159.570007 137.770004 155.360001 126.610001 177.210007 157.339996\n",
            " 125.459999  93.449997  77.559998 122.290001 119.220001 167.990005\n",
            "  87.370003 124.769997  91.730003 117.919998 121.449997 135.369995\n",
            " 114.57     115.800003 134.119995 105.720001 105.410004  87.239998\n",
            " 127.489998 118.360001 155.919998 119.959999 108.419998 107.519997\n",
            "  93.800003 128.539993  73.300003 113.260002 120.110001 109.860001\n",
            " 118.919998 121.129997 161.320007 161.520004 146.869995  83.989998\n",
            "  93.040001  86.879997  91.980003 119.800003 126.139999 127.400002\n",
            " 173.490005 122.669998 116.209999  97.699997 169.820007 141.899994\n",
            " 134.279999 120.910004 122.739998 119.190002 113.910004 118.82\n",
            " 106.260002 127.660004 114.209999 108.470001 115.57     119.699997\n",
            "  89.910004  87.989998 142.380005 127.150002 114.209999 110.239998\n",
            " 107.889999  76.489998 173.020004 113.639999 121.190002 128.710007\n",
            " 154.039993  91.769997 134.410004 161.320007 124.360001 126.18\n",
            " 130.369995 113.910004 120.980003  92.059998 111.459999 173.490005\n",
            " 159.869995 113.639999 107.040001  80.650002 113.779999 125.540001\n",
            " 108.089996 118.82     157.320007 160.559998 120.139999 133.139999\n",
            " 102.529999 116.029999 118.959999 111.860001 102.669998 160.559998\n",
            "  97.43     139.360001 125.290001 171.509995 123.730003 128.539993\n",
            " 128.279999 114.769997 111.75     124.269997 101.419998  91.309998\n",
            " 125.959999  99.669998 107.040001 115.839996 116.730003  97.699997\n",
            " 121.650002 165.279999  86.879997 107.669998 118.559998 127.660004\n",
            " 125.029999  79.790001 121.470001 160.559998  89.5      109.760002\n",
            " 118.279999 174.399994 102.940002 104.860001 122.82     160.619995\n",
            "  86.739998  92.93     111.57     178.539993 114.720001 118.959999\n",
            "  93.860001 124.910004 165.309998 113.910004 117.260002  87.989998\n",
            " 150.410004 119.779999  89.709999 112.690002 118.360001 118.830002\n",
            "  87.690002  94.599998 114.459999 118.230003 121.160004 126.160004\n",
            " 121.690002 138.720001 165.649994 119.32     120.730003 153.\n",
            " 120.559998 174.399994 102.279999 104.330002 149.880005 114.209999\n",
            " 124.360001 146.539993 119.75     113.639999 112.690002 112.660004\n",
            " 132.690002 118.519997 102.309998 115.940002 104.040001  97.699997\n",
            " 118.610001  89.690002  91.93     155.970001 102.940002 154.470001\n",
            " 115.050003 137.660004  90.589996 115.139999 108.589996 119.510002\n",
            " 122.709999 166.490005  93.389999 137.660004 121.129997 120.160004\n",
            " 105.68     135.020004 122.169998 116.470001 113.910004 128.789993\n",
            " 123.32     125.699997 121.110001  87.220001 132.070007 135.380005\n",
            "  91.5      161.520004 161.320007 126.809998 168.110001 109.610001\n",
            " 108.550003 103.019997  94.730003 129.740005 107.040001 161.520004\n",
            " 121.650002 131.740005 130.369995 157.210007  90.589996 177.210007\n",
            " 129.860001 126.160004  86.699997 124.870003 150.479996  89.709999\n",
            " 107.669998 108.470001  88.32     134.300003 156.       154.910004\n",
            "  72.5      153.       126.949997 127.169998 128.070007 108.470001\n",
            " 157.160004 113.910004 116.730003 123.389999 154.190002 122.669998\n",
            " 156.479996  92.760002 125.370003 124.239998  88.580002  91.610001\n",
            " 125.620003 129.710007 112.440002 116.839996 120.970001 128.789993\n",
            " 120.730003 136.050003  92.949997 118.809998 112.940002  94.599998\n",
            " 109.129997  86.449997 107.970001  90.190002  93.389999 130.369995\n",
            " 161.419998  88.800003 119.730003 133.740005 124.389999 129.710007\n",
            " 101.419998  89.220001 130.449997 121.650002 108.220001 173.199997\n",
            " 113.290001  86.510002 118.470001  91.25     161.589996 118.610001\n",
            " 123.620003 160.440002 120.559998 114.269997 108.309998 126.800003\n",
            "  75.650002 103.18     129.740005 121.589996  92.730003 132.199997\n",
            " 118.559998 117.120003 156.080002 161.220001 110.879997 137.380005\n",
            " 119.349998 160.619995 117.449997 159.050003 114.860001 116.5\n",
            " 145.729996 115.279999 126.339996 167.339996 117.139999 124.779999\n",
            " 152.300003 153.050003 132.070007 115.43     121.690002 126.18\n",
            "  90.279999 125.32     157.320007 110.459999 107.669998 162.300003\n",
            " 118.769997 165.800003 136.029999 113.269997 152.619995 168.710007\n",
            " 117.769997 114.660004 161.449997  84.459999 127.120003 128.559998\n",
            " 128.110001 124.360001 123.639999  90.800003 151.910004  96.5\n",
            " 136.050003  86.449997 108.470001 115.260002 111.75     124.959999\n",
            "  91.610001 124.970001 161.419998 119.919998 167.580002 126.160004\n",
            " 112.040001 127.599998  95.449997  94.349998 102.279999 121.110001\n",
            "  81.989998 126.589996 161.070007 116.610001 118.68     117.610001\n",
            " 124.389999 120.720001 120.940002 117.650002 107.040001 146.5\n",
            " 123.730003 115.32      74.       128.070007 157.779999 118.\n",
            " 125.540001  89.269997 102.199997 123.389999 120.360001  74.\n",
            " 151.050003 120.110001 103.93      88.529999 114.769997 172.339996\n",
            " 121.470001 160.649994 113.669998 121.790001 118.559998  96.5\n",
            " 119.169998 126.07     118.110001  97.800003 155.360001 123.620003\n",
            " 146.       159.300003 115.059998 123.239998 147.179993 128.470001\n",
            " 166.130005 132.690002 120.980003 173.020004 108.82     122.019997\n",
            " 135.369995 103.419998]\n"
          ]
        }
      ],
      "source": [
        "test_data_prediction_dt = dt.predict(X_test)\n",
        "print(test_data_prediction_dt)"
      ]
    },
    {
      "cell_type": "code",
      "execution_count": 108,
      "metadata": {
        "colab": {
          "base_uri": "https://localhost:8080/"
        },
        "id": "CnIBWouW6_6n",
        "outputId": "8117e693-4cad-4c39-f046-ff6d4b44bc3a"
      },
      "outputs": [
        {
          "data": {
            "text/plain": [
              "1.0"
            ]
          },
          "execution_count": 108,
          "metadata": {},
          "output_type": "execute_result"
        }
      ],
      "source": [
        "dt.score(X_train,Y_train)"
      ]
    },
    {
      "cell_type": "code",
      "execution_count": 109,
      "metadata": {
        "colab": {
          "base_uri": "https://localhost:8080/"
        },
        "id": "s-dO2-6ZzgYv",
        "outputId": "e490bf60-5bca-4975-f6d9-3ae4ccf6a015"
      },
      "outputs": [
        {
          "name": "stdout",
          "output_type": "stream",
          "text": [
            "R squared error :  0.9888204267221915\n"
          ]
        }
      ],
      "source": [
        "error_score_dt = metrics.r2_score(Y_test, test_data_prediction_dt)\n",
        "print(\"R squared error : \", error_score)"
      ]
    },
    {
      "cell_type": "code",
      "execution_count": 110,
      "metadata": {
        "id": "okGStsImzlrK"
      },
      "outputs": [],
      "source": [
        "Y_test = list(Y_test)"
      ]
    },
    {
      "cell_type": "code",
      "execution_count": 111,
      "metadata": {
        "colab": {
          "base_uri": "https://localhost:8080/"
        },
        "id": "BeZU89-G7Md5",
        "outputId": "c0a35fbd-7877-4904-ca7c-63f2e7f4b54c"
      },
      "outputs": [
        {
          "data": {
            "text/plain": [
              "0.9839354889602968"
            ]
          },
          "execution_count": 111,
          "metadata": {},
          "output_type": "execute_result"
        }
      ],
      "source": [
        "dt.score(X_test,Y_test)"
      ]
    },
    {
      "cell_type": "code",
      "execution_count": 112,
      "metadata": {
        "colab": {
          "base_uri": "https://localhost:8080/",
          "height": 0
        },
        "id": "qOPARcKjzn1L",
        "outputId": "93300b7a-1eee-48f5-f650-c7471435c8f4"
      },
      "outputs": [
        {
          "data": {
            "image/png": "[encoded data removed]",
            "text/plain": [
              "<Figure size 432x288 with 1 Axes>"
            ]
          },
          "metadata": {
            "needs_background": "light"
          },
          "output_type": "display_data"
        }
      ],
      "source": [
        "plt.plot(Y_test, color='blue', label = 'Actual Value')\n",
        "plt.plot(test_data_prediction_dt, color='green', label='Predicted Value')\n",
        "plt.title('Actual Price vs Predicted Price')\n",
        "plt.xlabel('Number of values')\n",
        "plt.ylabel('GLD Price')\n",
        "plt.legend()\n",
        "plt.show()"
      ]
    },
    {
      "cell_type": "markdown",
      "metadata": {
        "id": "wvBGRdmrnM9j"
      },
      "source": [
        "#KNN\n"
      ]
    },
    {
      "cell_type": "code",
      "execution_count": 113,
      "metadata": {
        "id": "fJkF-mZcnQgq"
      },
      "outputs": [],
      "source": [
        "knn=KNeighborsRegressor()"
      ]
    },
    {
      "cell_type": "code",
      "execution_count": 114,
      "metadata": {
        "colab": {
          "base_uri": "https://localhost:8080/"
        },
        "id": "fmkKixRInRQ2",
        "outputId": "1367ab60-0a08-4fc7-b472-5fcc2cd07786"
      },
      "outputs": [
        {
          "data": {
            "text/plain": [
              "KNeighborsRegressor()"
            ]
          },
          "execution_count": 114,
          "metadata": {},
          "output_type": "execute_result"
        }
      ],
      "source": [
        "knn.fit(X_train,Y_train)"
      ]
    },
    {
      "cell_type": "code",
      "execution_count": 115,
      "metadata": {
        "colab": {
          "base_uri": "https://localhost:8080/"
        },
        "id": "Q4mNmTxinUMg",
        "outputId": "86ba10a0-b41e-4a76-8574-d6bd8723db1e"
      },
      "outputs": [
        {
          "data": {
            "text/plain": [
              "0.9338987197131254"
            ]
          },
          "execution_count": 115,
          "metadata": {},
          "output_type": "execute_result"
        }
      ],
      "source": [
        "knn.score(X_test,Y_test)"
      ]
    },
    {
      "cell_type": "code",
      "execution_count": 116,
      "metadata": {
        "colab": {
          "base_uri": "https://localhost:8080/"
        },
        "id": "oLHD6wmbnVh6",
        "outputId": "50b9ee46-4f8e-4a62-a888-f53f84523fa0"
      },
      "outputs": [
        {
          "data": {
            "text/plain": [
              "0.9628800784415504"
            ]
          },
          "execution_count": 116,
          "metadata": {},
          "output_type": "execute_result"
        }
      ],
      "source": [
        "knn.score(X_train,Y_train)"
      ]
    }
  ],
  "metadata": {
    "colab": {
      "collapsed_sections": [
        "tPK2gdPEmo8i",
        "noTjaLXQ0uke",
        "wvBGRdmrnM9j"
      ],
      "provenance": [],
      "toc_visible": true
    },
    "kernelspec": {
      "display_name": "Python 3",
      "language": "python",
      "name": "python3"
    },
    "language_info": {
      "name": "python",
      "version": "3.10.4 (tags/v3.10.4:9d38120, Mar 23 2022, 23:13:41) [MSC v.1929 64 bit (AMD64)]"
    },
    "vscode": {
      "interpreter": {
        "hash": "369f2c481f4da34e4445cda3fffd2e751bd1c4d706f27375911949ba6bb62e1c"
      }
    }
  },
  "nbformat": 4,
  "nbformat_minor": 0
}
